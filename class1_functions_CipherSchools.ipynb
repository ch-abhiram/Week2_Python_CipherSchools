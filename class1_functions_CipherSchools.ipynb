{
  "nbformat": 4,
  "nbformat_minor": 0,
  "metadata": {
    "colab": {
      "provenance": [],
      "authorship_tag": "ABX9TyO4drS3sQ4HvdmUUPOX2fVe",
      "include_colab_link": true
    },
    "kernelspec": {
      "name": "python3",
      "display_name": "Python 3"
    },
    "language_info": {
      "name": "python"
    }
  },
  "cells": [
    {
      "cell_type": "markdown",
      "metadata": {
        "id": "view-in-github",
        "colab_type": "text"
      },
      "source": [
        "<a href=\"https://colab.research.google.com/github/ch-abhiram/Week2_Python_CipherSchools/blob/main/class1_functions_CipherSchools.ipynb\" target=\"_parent\"><img src=\"https://colab.research.google.com/assets/colab-badge.svg\" alt=\"Open In Colab\"/></a>"
      ]
    },
    {
      "cell_type": "code",
      "execution_count": null,
      "metadata": {
        "colab": {
          "base_uri": "https://localhost:8080/"
        },
        "id": "bm3lLnDPSezT",
        "outputId": "6783c9a8-5d4a-4081-c2f3-08092c4a948f"
      },
      "outputs": [
        {
          "output_type": "stream",
          "name": "stdout",
          "text": [
            "11\n",
            "loading...\n",
            "loading...\n",
            "loading...\n",
            "-9\n",
            "loading...\n",
            "loading...\n",
            "loading...\n",
            "10\n",
            "loading...\n",
            "loading...\n",
            "loading...\n",
            "0.1\n"
          ]
        }
      ],
      "source": [
        "def show_loading():\n",
        "    for _ in range(3):\n",
        "        print(\"loading...\")\n",
        "a=1\n",
        "b=10\n",
        "print(a+b)\n",
        "show_loading()\n",
        "print(a-b)\n",
        "show_loading()\n",
        "print(a*b)\n",
        "show_loading()\n",
        "print(a/b)"
      ]
    },
    {
      "cell_type": "code",
      "source": [
        "def add(a,b):\n",
        "    return a+b\n",
        "a=add(10,20)\n",
        "print(a)"
      ],
      "metadata": {
        "colab": {
          "base_uri": "https://localhost:8080/"
        },
        "id": "KBmO0XsqSlRM",
        "outputId": "cadb1f38-0f85-4f70-de67-24578c30c7a4"
      },
      "execution_count": null,
      "outputs": [
        {
          "output_type": "stream",
          "name": "stdout",
          "text": [
            "30\n"
          ]
        }
      ]
    },
    {
      "cell_type": "code",
      "source": [
        "def show_loading():\n",
        "    for _ in range(3):\n",
        "        print(\"loading\",\".\"*(_+1))\n",
        "show_loading()"
      ],
      "metadata": {
        "id": "FxrFd6uTSoFG",
        "outputId": "fb6c0408-5f84-4e5a-cb8e-ea004caf0f59",
        "colab": {
          "base_uri": "https://localhost:8080/"
        }
      },
      "execution_count": null,
      "outputs": [
        {
          "output_type": "stream",
          "name": "stdout",
          "text": [
            "loading .\n",
            "loading ..\n",
            "loading ...\n"
          ]
        }
      ]
    },
    {
      "cell_type": "code",
      "source": [
        "def knock(name):\n",
        "    for _ in range(3):\n",
        "        print(\"knock knock knock\",name)\n",
        "knock(\"nishant\")"
      ],
      "metadata": {
        "id": "gjPi0YzDSp_k"
      },
      "execution_count": null,
      "outputs": []
    },
    {
      "cell_type": "code",
      "source": [
        "def knock(name,times=3):\n",
        "    for _ in range(times):\n",
        "        print(\"knock knock knock\",name)\n",
        "knock(\"nishant\",100)"
      ],
      "metadata": {
        "id": "UDxfQB6nSr6i"
      },
      "execution_count": null,
      "outputs": []
    }
  ]
}