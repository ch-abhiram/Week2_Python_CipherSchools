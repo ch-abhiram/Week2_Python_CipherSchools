{
  "nbformat": 4,
  "nbformat_minor": 0,
  "metadata": {
    "colab": {
      "provenance": [],
      "authorship_tag": "ABX9TyNI1vP67DsU2AVvSXbY3nJ2",
      "include_colab_link": true
    },
    "kernelspec": {
      "name": "python3",
      "display_name": "Python 3"
    },
    "language_info": {
      "name": "python"
    }
  },
  "cells": [
    {
      "cell_type": "markdown",
      "metadata": {
        "id": "view-in-github",
        "colab_type": "text"
      },
      "source": [
        "<a href=\"https://colab.research.google.com/github/ch-abhiram/Week2_Python_CipherSchools/blob/main/class6_Tuples_and_Dictionaries_CipherSchools.ipynb\" target=\"_parent\"><img src=\"https://colab.research.google.com/assets/colab-badge.svg\" alt=\"Open In Colab\"/></a>"
      ]
    },
    {
      "cell_type": "code",
      "execution_count": null,
      "metadata": {
        "id": "OIjUrn1sVhso",
        "outputId": "b866df73-3dd7-4ad8-c1f1-cc48399a4a99",
        "colab": {
          "base_uri": "https://localhost:8080/"
        }
      },
      "outputs": [
        {
          "output_type": "execute_result",
          "data": {
            "text/plain": [
              "tuple"
            ]
          },
          "metadata": {},
          "execution_count": 1
        }
      ],
      "source": [
        "a=(1,2,3,4)\n",
        "type(a)"
      ]
    },
    {
      "cell_type": "code",
      "source": [
        "def a(*args):\n",
        "    print(type(args))\n",
        "a(1,2,3,4)"
      ],
      "metadata": {
        "id": "1g4oFB7MVrZb",
        "outputId": "452db59c-7728-4e13-bc2d-79c4d5f767b6",
        "colab": {
          "base_uri": "https://localhost:8080/"
        }
      },
      "execution_count": null,
      "outputs": [
        {
          "output_type": "stream",
          "name": "stdout",
          "text": [
            "<class 'tuple'>\n"
          ]
        }
      ]
    },
    {
      "cell_type": "code",
      "source": [
        "a,b=5,9\n",
        "c=a,b\n",
        "print(type(c))"
      ],
      "metadata": {
        "id": "ikuu9AboVrcI",
        "outputId": "aa0f946a-de51-4752-9f7c-89302432b3f8",
        "colab": {
          "base_uri": "https://localhost:8080/"
        }
      },
      "execution_count": null,
      "outputs": [
        {
          "output_type": "stream",
          "name": "stdout",
          "text": [
            "<class 'tuple'>\n"
          ]
        }
      ]
    },
    {
      "cell_type": "code",
      "source": [
        "def func(a,b):\n",
        "    s=a+b\n",
        "    d=a-b\n",
        "    return a,b\n",
        "c=func(2,4)\n",
        "type(c)"
      ],
      "metadata": {
        "id": "DcsWYisEVreM",
        "outputId": "02be9841-2524-45f5-c80e-a66b147ff537",
        "colab": {
          "base_uri": "https://localhost:8080/"
        }
      },
      "execution_count": null,
      "outputs": [
        {
          "output_type": "execute_result",
          "data": {
            "text/plain": [
              "tuple"
            ]
          },
          "metadata": {},
          "execution_count": 4
        }
      ]
    },
    {
      "cell_type": "code",
      "source": [
        "a=1,2,3,4\n",
        "type(a)\n"
      ],
      "metadata": {
        "id": "BHcQ9J9HVrf9",
        "outputId": "f013da47-1051-44d2-cc43-ad764b6a3b2e",
        "colab": {
          "base_uri": "https://localhost:8080/"
        }
      },
      "execution_count": null,
      "outputs": [
        {
          "output_type": "execute_result",
          "data": {
            "text/plain": [
              "tuple"
            ]
          },
          "metadata": {},
          "execution_count": 5
        }
      ]
    },
    {
      "cell_type": "code",
      "source": [
        "a=(1,2,3,4)\n",
        "print(list(a))"
      ],
      "metadata": {
        "id": "WFsv9o8MVrk3",
        "outputId": "b84c1fc8-a0e9-488c-8577-909b01bfe6cf",
        "colab": {
          "base_uri": "https://localhost:8080/"
        }
      },
      "execution_count": null,
      "outputs": [
        {
          "output_type": "stream",
          "name": "stdout",
          "text": [
            "[1, 2, 3, 4]\n"
          ]
        }
      ]
    },
    {
      "cell_type": "code",
      "source": [
        "a={\"name\":\"abhiram\"}\n",
        "a[\"name\"]=\"abhiram\"\n",
        "print(a)"
      ],
      "metadata": {
        "id": "VjfglTqjVrn3",
        "outputId": "b5684ee3-5c89-4cc9-c959-845cdfecace5",
        "colab": {
          "base_uri": "https://localhost:8080/"
        }
      },
      "execution_count": null,
      "outputs": [
        {
          "output_type": "stream",
          "name": "stdout",
          "text": [
            "{'name': 'abhiram'}\n"
          ]
        }
      ]
    },
    {
      "cell_type": "code",
      "source": [
        "a={\"name\":\"abhiram\",\n",
        "\"marks\":\"humdred\",\n",
        "\"town\":\"fzr\"}\n",
        "key=\"college\"\n",
        "if key in a:\n",
        "    print(a[key])\n",
        "else:\n",
        "    print(\"key doesn't exist\")"
      ],
      "metadata": {
        "id": "4CzJ8kvzVrqy",
        "outputId": "7d108c5d-2f29-498f-92f0-041bc2c11795",
        "colab": {
          "base_uri": "https://localhost:8080/"
        }
      },
      "execution_count": null,
      "outputs": [
        {
          "output_type": "stream",
          "name": "stdout",
          "text": [
            "key doesn't exist\n"
          ]
        }
      ]
    },
    {
      "cell_type": "code",
      "source": [
        "a={\"name\":\"abhiram\",\n",
        "\"marks\":\"humdred\",\n",
        "\"town\":\"fzr\"}\n",
        "key=\"college\"\n",
        "print(a.get(key))"
      ],
      "metadata": {
        "id": "YfQxGDSAVrtS",
        "outputId": "48e99f4b-19c6-48b7-80cc-fdd88f198051",
        "colab": {
          "base_uri": "https://localhost:8080/"
        }
      },
      "execution_count": null,
      "outputs": [
        {
          "output_type": "stream",
          "name": "stdout",
          "text": [
            "None\n"
          ]
        }
      ]
    },
    {
      "cell_type": "code",
      "source": [
        "a={\"name\":\"abhiram\",\n",
        "\"marks\":\"humdred\",\n",
        "\"town\":\"fzr\"}\n",
        "key=\"colleg\"\n",
        "print(a.get(key,\"key doesn't exist\"))"
      ],
      "metadata": {
        "id": "qp209ZIBVrve",
        "outputId": "680b5491-5261-4b23-9307-72146bb2a4d9",
        "colab": {
          "base_uri": "https://localhost:8080/"
        }
      },
      "execution_count": null,
      "outputs": [
        {
          "output_type": "stream",
          "name": "stdout",
          "text": [
            "key doesn't exist\n"
          ]
        }
      ]
    },
    {
      "cell_type": "code",
      "source": [
        "a={\"name\":\"abhiram\",\n",
        "\"marks\":\"humdred\",\n",
        "\"town\":\"fzr\"}\n",
        "for key,value in a.items():\n",
        "    print(key,\"--\",value)"
      ],
      "metadata": {
        "id": "U70Q3nA3VryD",
        "outputId": "b03174a2-18bf-4f6e-cb26-9cd328105a70",
        "colab": {
          "base_uri": "https://localhost:8080/"
        }
      },
      "execution_count": null,
      "outputs": [
        {
          "output_type": "stream",
          "name": "stdout",
          "text": [
            "name -- abhiram\n",
            "marks -- humdred\n",
            "town -- fzr\n"
          ]
        }
      ]
    },
    {
      "cell_type": "code",
      "source": [
        "a={\"name\":\"abhiram\",\n",
        "\"marks\":\"humdred\",\n",
        "\"town\":\"fzr\"}\n",
        "print(\"name\" in a)"
      ],
      "metadata": {
        "id": "7zSLg4WjWIoI",
        "outputId": "9924dde2-7a3b-4af4-f32b-1894e8a20db8",
        "colab": {
          "base_uri": "https://localhost:8080/"
        }
      },
      "execution_count": null,
      "outputs": [
        {
          "output_type": "stream",
          "name": "stdout",
          "text": [
            "True\n"
          ]
        }
      ]
    },
    {
      "cell_type": "code",
      "source": [
        "a={\"name\":\"abhiram\",\n",
        "\"marks\":\"humdred\",\n",
        "\"town\":\"fzr\"}\n",
        "for x in a:\n",
        "    print(x)"
      ],
      "metadata": {
        "id": "sKK4aRZBWIqj",
        "outputId": "0d696ed6-2213-43bd-8683-0f97f11684b1",
        "colab": {
          "base_uri": "https://localhost:8080/"
        }
      },
      "execution_count": null,
      "outputs": [
        {
          "output_type": "stream",
          "name": "stdout",
          "text": [
            "name\n",
            "marks\n",
            "town\n"
          ]
        }
      ]
    }
  ]
}