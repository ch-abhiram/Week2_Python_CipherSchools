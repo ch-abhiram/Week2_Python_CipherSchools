{
  "nbformat": 4,
  "nbformat_minor": 0,
  "metadata": {
    "colab": {
      "provenance": [],
      "authorship_tag": "ABX9TyMlecuem3uH90rtJNwc0lNs",
      "include_colab_link": true
    },
    "kernelspec": {
      "name": "python3",
      "display_name": "Python 3"
    },
    "language_info": {
      "name": "python"
    }
  },
  "cells": [
    {
      "cell_type": "markdown",
      "metadata": {
        "id": "view-in-github",
        "colab_type": "text"
      },
      "source": [
        "<a href=\"https://colab.research.google.com/github/ch-abhiram/Week2_Python_CipherSchools/blob/main/class7_Sets_and_order_of_mutability_CipherSchools.ipynb\" target=\"_parent\"><img src=\"https://colab.research.google.com/assets/colab-badge.svg\" alt=\"Open In Colab\"/></a>"
      ]
    },
    {
      "cell_type": "code",
      "execution_count": 1,
      "metadata": {
        "colab": {
          "base_uri": "https://localhost:8080/"
        },
        "id": "KyczFRgnXJyL",
        "outputId": "1ef4f8cc-dfbc-4c89-9bf8-28d2ed484824"
      },
      "outputs": [
        {
          "output_type": "execute_result",
          "data": {
            "text/plain": [
              "set"
            ]
          },
          "metadata": {},
          "execution_count": 1
        }
      ],
      "source": [
        "a={1,2,3,4,5}\n",
        "type(a)"
      ]
    },
    {
      "cell_type": "code",
      "source": [
        "a={1,2,3,4,5}\n",
        "for i in a:\n",
        "    print(i)"
      ],
      "metadata": {
        "colab": {
          "base_uri": "https://localhost:8080/"
        },
        "id": "HMujtypqXNY7",
        "outputId": "a1e95d69-8ea2-41b6-ab93-8fb6d0309086"
      },
      "execution_count": 2,
      "outputs": [
        {
          "output_type": "stream",
          "name": "stdout",
          "text": [
            "1\n",
            "2\n",
            "3\n",
            "4\n",
            "5\n"
          ]
        }
      ]
    },
    {
      "cell_type": "code",
      "source": [
        "a={1,2,3,4,5}\n",
        "a.add(6)\n",
        "a.remove(5)\n",
        "a.add(2)\n",
        "print(a)"
      ],
      "metadata": {
        "colab": {
          "base_uri": "https://localhost:8080/"
        },
        "id": "3PPYcq_IXNbn",
        "outputId": "e969ec22-2ed9-4481-d7b5-b05753671648"
      },
      "execution_count": 3,
      "outputs": [
        {
          "output_type": "stream",
          "name": "stdout",
          "text": [
            "{1, 2, 3, 4, 6}\n"
          ]
        }
      ]
    },
    {
      "cell_type": "code",
      "source": [
        "a={1,2,3,4}\n",
        "b={3,4,7,8}\n",
        "print(a-b)"
      ],
      "metadata": {
        "colab": {
          "base_uri": "https://localhost:8080/"
        },
        "id": "X134JL0aXNd9",
        "outputId": "76949d53-657b-43a3-c99a-ebbd4aab8ee1"
      },
      "execution_count": 4,
      "outputs": [
        {
          "output_type": "stream",
          "name": "stdout",
          "text": [
            "{1, 2}\n"
          ]
        }
      ]
    },
    {
      "cell_type": "code",
      "source": [
        "a={1,2,3,4}\n",
        "b={3,4,7,8}\n",
        "print(a.union(b))\n",
        "print(a.intersection(b))"
      ],
      "metadata": {
        "colab": {
          "base_uri": "https://localhost:8080/"
        },
        "id": "i4pSn0ZKXNfi",
        "outputId": "6f8c4653-8e94-48b9-e82b-d0bf55373881"
      },
      "execution_count": 5,
      "outputs": [
        {
          "output_type": "stream",
          "name": "stdout",
          "text": [
            "{1, 2, 3, 4, 7, 8}\n",
            "{3, 4}\n"
          ]
        }
      ]
    },
    {
      "cell_type": "code",
      "source": [
        "a=[['']*3]*3\n",
        "print(a)\n",
        "a[1][1]=\"o\"\n",
        "print(a)"
      ],
      "metadata": {
        "colab": {
          "base_uri": "https://localhost:8080/"
        },
        "id": "gmnXiUG3XNk_",
        "outputId": "9e193d76-951e-4107-ea8a-fb43ca490dd8"
      },
      "execution_count": 7,
      "outputs": [
        {
          "output_type": "stream",
          "name": "stdout",
          "text": [
            "[['', '', ''], ['', '', ''], ['', '', '']]\n",
            "[['', 'o', ''], ['', 'o', ''], ['', 'o', '']]\n"
          ]
        }
      ]
    },
    {
      "cell_type": "code",
      "source": [
        "a=[['']*3]*3\n",
        "print(id(a[0][1]))\n",
        "print(id(a[1][1]))\n",
        "print(id(a[2][1]))\n"
      ],
      "metadata": {
        "colab": {
          "base_uri": "https://localhost:8080/"
        },
        "id": "N4JDWOv4XNnl",
        "outputId": "f59f706d-eab5-4dbf-d8c8-57a8663d185d"
      },
      "execution_count": 6,
      "outputs": [
        {
          "output_type": "stream",
          "name": "stdout",
          "text": [
            "140584918164208\n",
            "140584918164208\n",
            "140584918164208\n"
          ]
        }
      ]
    },
    {
      "cell_type": "code",
      "source": [
        "a=255\n",
        "b=255\n",
        "print(a is b)"
      ],
      "metadata": {
        "colab": {
          "base_uri": "https://localhost:8080/"
        },
        "id": "US8itNOnXNpz",
        "outputId": "c8fde188-2b26-4949-8653-1e222dc2690f"
      },
      "execution_count": 8,
      "outputs": [
        {
          "output_type": "stream",
          "name": "stdout",
          "text": [
            "True\n"
          ]
        }
      ]
    },
    {
      "cell_type": "code",
      "source": [
        "a=(1,2,3)\n",
        "hash(a)"
      ],
      "metadata": {
        "colab": {
          "base_uri": "https://localhost:8080/"
        },
        "id": "aDD_jb4RXNsA",
        "outputId": "25cf685b-0e19-4bd3-ca88-223912410073"
      },
      "execution_count": 9,
      "outputs": [
        {
          "output_type": "execute_result",
          "data": {
            "text/plain": [
              "529344067295497451"
            ]
          },
          "metadata": {},
          "execution_count": 9
        }
      ]
    }
  ]
}