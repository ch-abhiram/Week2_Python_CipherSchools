{
  "nbformat": 4,
  "nbformat_minor": 0,
  "metadata": {
    "colab": {
      "provenance": [],
      "authorship_tag": "ABX9TyNtZiaaUXULDc02nYqBB9hb",
      "include_colab_link": true
    },
    "kernelspec": {
      "name": "python3",
      "display_name": "Python 3"
    },
    "language_info": {
      "name": "python"
    }
  },
  "cells": [
    {
      "cell_type": "markdown",
      "metadata": {
        "id": "view-in-github",
        "colab_type": "text"
      },
      "source": [
        "<a href=\"https://colab.research.google.com/github/ch-abhiram/Week2_Python_CipherSchools/blob/main/class10_Dunders_In_Python_CipherSchools.ipynb\" target=\"_parent\"><img src=\"https://colab.research.google.com/assets/colab-badge.svg\" alt=\"Open In Colab\"/></a>"
      ]
    },
    {
      "cell_type": "code",
      "execution_count": null,
      "metadata": {
        "colab": {
          "base_uri": "https://localhost:8080/"
        },
        "id": "FYDP7EaoR2rt",
        "outputId": "35f8b4d0-0323-4dc4-9f12-b6bbefe0a647"
      },
      "outputs": [
        {
          "output_type": "stream",
          "name": "stdout",
          "text": [
            "My name is abhiramt\n"
          ]
        }
      ],
      "source": [
        "class person:\n",
        "    def __init__(self,name):\n",
        "        self.name=name\n",
        "    def abc(self):\n",
        "        print(\"My name is\",self.name)\n",
        "p=person(\"abhiramt\")\n",
        "p.abc()\n"
      ]
    },
    {
      "cell_type": "code",
      "source": [
        "class A:\n",
        "    def __init__(self):\n",
        "        print(self)\n",
        "        print(\"initialized\")\n",
        "a=A()"
      ],
      "metadata": {
        "colab": {
          "base_uri": "https://localhost:8080/"
        },
        "id": "HG4RkmUiSQcy",
        "outputId": "f9b7d806-663c-4c1c-f64f-89a378e78a65"
      },
      "execution_count": null,
      "outputs": [
        {
          "output_type": "stream",
          "name": "stdout",
          "text": [
            "<__main__.A object at 0x7f86eb2a35b0>\n",
            "initialized\n"
          ]
        }
      ]
    },
    {
      "cell_type": "code",
      "source": [
        "class A:\n",
        "    def __init__(self):\n",
        "        print(self)\n",
        "        print(\"initialized\")\n",
        "    def __del__(self):\n",
        "        print(\"I am dying\")\n",
        "a=A()\n",
        "del a"
      ],
      "metadata": {
        "colab": {
          "base_uri": "https://localhost:8080/"
        },
        "id": "Uv_QyP1iSSmy",
        "outputId": "edc76dc6-8ee7-4066-ea2f-f5399074f28b"
      },
      "execution_count": null,
      "outputs": [
        {
          "output_type": "stream",
          "name": "stdout",
          "text": [
            "<__main__.A object at 0x7f86eb2a3340>\n",
            "initialized\n",
            "I am dying\n"
          ]
        }
      ]
    },
    {
      "cell_type": "code",
      "source": [
        "\"abhiram\".__mul__(2)"
      ],
      "metadata": {
        "colab": {
          "base_uri": "https://localhost:8080/",
          "height": 36
        },
        "id": "OUx1MsMzSUyc",
        "outputId": "c80a245d-f193-491c-e507-61f5c09f5ead"
      },
      "execution_count": null,
      "outputs": [
        {
          "output_type": "execute_result",
          "data": {
            "text/plain": [
              "'abhiramabhiram'"
            ],
            "application/vnd.google.colaboratory.intrinsic+json": {
              "type": "string"
            }
          },
          "metadata": {},
          "execution_count": 4
        }
      ]
    },
    {
      "cell_type": "code",
      "source": [
        "a=1\n",
        "a.__add__(5)"
      ],
      "metadata": {
        "id": "6Zm7g_lJSahK"
      },
      "execution_count": null,
      "outputs": []
    }
  ]
}