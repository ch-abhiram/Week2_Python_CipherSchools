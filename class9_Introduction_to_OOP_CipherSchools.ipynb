{
  "nbformat": 4,
  "nbformat_minor": 0,
  "metadata": {
    "colab": {
      "provenance": [],
      "authorship_tag": "ABX9TyNYGhPFzBPY8LV5gD62CvFd",
      "include_colab_link": true
    },
    "kernelspec": {
      "name": "python3",
      "display_name": "Python 3"
    },
    "language_info": {
      "name": "python"
    }
  },
  "cells": [
    {
      "cell_type": "markdown",
      "metadata": {
        "id": "view-in-github",
        "colab_type": "text"
      },
      "source": [
        "<a href=\"https://colab.research.google.com/github/ch-abhiram/Week2_Python_CipherSchools/blob/main/class9_Introduction_to_OOP_CipherSchools.ipynb\" target=\"_parent\"><img src=\"https://colab.research.google.com/assets/colab-badge.svg\" alt=\"Open In Colab\"/></a>"
      ]
    },
    {
      "cell_type": "code",
      "execution_count": null,
      "metadata": {
        "colab": {
          "base_uri": "https://localhost:8080/",
          "height": 53
        },
        "id": "S2yL0NReYlGH",
        "outputId": "5227b004-c964-4d79-d199-da11260107eb"
      },
      "outputs": [
        {
          "output_type": "stream",
          "name": "stdout",
          "text": [
            "<__main__.person object at 0x7feef06e3490>\n"
          ]
        },
        {
          "output_type": "execute_result",
          "data": {
            "text/plain": [
              "'0x7feef06e3490'"
            ],
            "application/vnd.google.colaboratory.intrinsic+json": {
              "type": "string"
            }
          },
          "metadata": {},
          "execution_count": 1
        }
      ],
      "source": [
        "class person:\n",
        "    pass\n",
        "p=person()\n",
        "print(p)\n",
        "hex(id(p))"
      ]
    },
    {
      "cell_type": "code",
      "source": [
        "class person:\n",
        "    name=\"Abhiram\"\n",
        "    def is_class(self):\n",
        "        print(f\"Hi myself {self.name}\")\n",
        "p=person()\n",
        "person.is_class(p) #function call\n",
        "p.is_class() #method call"
      ],
      "metadata": {
        "colab": {
          "base_uri": "https://localhost:8080/"
        },
        "id": "b__eOHUyYqwi",
        "outputId": "a923f60d-3341-493a-beef-665d4efcdf16"
      },
      "execution_count": null,
      "outputs": [
        {
          "output_type": "stream",
          "name": "stdout",
          "text": [
            "Hi myself Abhiram\n",
            "Hi myself Abhiram\n"
          ]
        }
      ]
    }
  ]
}