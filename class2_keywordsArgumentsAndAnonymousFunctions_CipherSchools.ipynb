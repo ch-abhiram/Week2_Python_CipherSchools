{
  "nbformat": 4,
  "nbformat_minor": 0,
  "metadata": {
    "colab": {
      "provenance": [],
      "authorship_tag": "ABX9TyNFjG1YZBWqrzWbEFMj4dh3",
      "include_colab_link": true
    },
    "kernelspec": {
      "name": "python3",
      "display_name": "Python 3"
    },
    "language_info": {
      "name": "python"
    }
  },
  "cells": [
    {
      "cell_type": "markdown",
      "metadata": {
        "id": "view-in-github",
        "colab_type": "text"
      },
      "source": [
        "<a href=\"https://colab.research.google.com/github/ch-abhiram/Week2_Python_CipherSchools/blob/main/class2_keywordsArgumentsAndAnonymousFunctions_CipherSchools.ipynb\" target=\"_parent\"><img src=\"https://colab.research.google.com/assets/colab-badge.svg\" alt=\"Open In Colab\"/></a>"
      ]
    },
    {
      "cell_type": "code",
      "execution_count": null,
      "metadata": {
        "colab": {
          "base_uri": "https://localhost:8080/"
        },
        "id": "X9Ij4GzkS0sM",
        "outputId": "88845512-fda1-46ad-92f7-9583282d42f5"
      },
      "outputs": [
        {
          "output_type": "stream",
          "name": "stdout",
          "text": [
            "Hello World !\n",
            "2\n",
            "Hello World !\n"
          ]
        }
      ],
      "source": [
        "def hello():\n",
        "    print(\"Hello World !\")\n",
        "a=1\n",
        "a=hello\n",
        "a()\n",
        "hello=2\n",
        "print(hello)\n",
        "a()"
      ]
    },
    {
      "cell_type": "code",
      "source": [
        "def hello():\n",
        "    return 1\n",
        "hello\n",
        "hello()"
      ],
      "metadata": {
        "colab": {
          "base_uri": "https://localhost:8080/"
        },
        "id": "Jzsdc7ikS7JL",
        "outputId": "a4c96f5b-1fab-4ec6-9ffc-55184ce49006"
      },
      "execution_count": null,
      "outputs": [
        {
          "output_type": "execute_result",
          "data": {
            "text/plain": [
              "1"
            ]
          },
          "metadata": {},
          "execution_count": 3
        }
      ]
    },
    {
      "cell_type": "code",
      "source": [
        "#required arguments\n",
        "def func(a,b):\n",
        "    print(a,b)\n",
        "func(1,2)"
      ],
      "metadata": {
        "colab": {
          "base_uri": "https://localhost:8080/"
        },
        "id": "vT6Y9AfcS9Gm",
        "outputId": "aab6915b-88a6-46e9-c67d-deaf01b315ca"
      },
      "execution_count": null,
      "outputs": [
        {
          "output_type": "stream",
          "name": "stdout",
          "text": [
            "1 2\n"
          ]
        }
      ]
    },
    {
      "cell_type": "code",
      "source": [
        "#default arguments\n",
        "def func(a=1,b=2):\n",
        "    print(a,b)\n",
        "func()\n",
        "func(1)\n",
        "func(3,4)"
      ],
      "metadata": {
        "id": "Vqi3GEIQS_2J"
      },
      "execution_count": null,
      "outputs": []
    },
    {
      "cell_type": "code",
      "source": [
        "#optional positional only arguments\n",
        "def func(a,b,*c):\n",
        "    print(a)\n",
        "    print(b)\n",
        "    print(c)\n",
        "func(1,2,3,4,\"nishant\")"
      ],
      "metadata": {
        "colab": {
          "base_uri": "https://localhost:8080/"
        },
        "id": "BdQ3q5ZtTCaV",
        "outputId": "c3e05c08-378d-4ac5-bf87-d90b28733ffb"
      },
      "execution_count": null,
      "outputs": [
        {
          "output_type": "stream",
          "name": "stdout",
          "text": [
            "1\n",
            "2\n",
            "(3, 4, 'nishant')\n"
          ]
        }
      ]
    },
    {
      "cell_type": "code",
      "source": [
        "#required keyworded only arguments\n",
        "def func(a,b,*c,d):\n",
        "    print(a)\n",
        "    print(b)\n",
        "    print(c)\n",
        "    print(d)\n",
        "func(1,2,3,4,5,6,7,d=8)"
      ],
      "metadata": {
        "colab": {
          "base_uri": "https://localhost:8080/"
        },
        "id": "aWWmbKuwTEZC",
        "outputId": "6e82fec2-49d4-47b5-e5a3-f06fca0889da"
      },
      "execution_count": null,
      "outputs": [
        {
          "output_type": "stream",
          "name": "stdout",
          "text": [
            "1\n",
            "2\n",
            "(3, 4, 5, 6, 7)\n",
            "8\n"
          ]
        }
      ]
    },
    {
      "cell_type": "code",
      "source": [
        "#default keyworded only argument\n",
        "def func(*c,d,e=\"abhiram\"):\n",
        "    print(c)\n",
        "    print(d)\n",
        "    print(e)\n",
        "func(1,2,3,4,5,d=\"ABHIRAM\")"
      ],
      "metadata": {
        "colab": {
          "base_uri": "https://localhost:8080/"
        },
        "id": "1hBa93jwTGzo",
        "outputId": "e9139926-cb01-4df1-9d8c-e75ebc59b42d"
      },
      "execution_count": null,
      "outputs": [
        {
          "output_type": "stream",
          "name": "stdout",
          "text": [
            "(1, 2, 3, 4, 5)\n",
            "ABHIRAM\n",
            "abhiram\n"
          ]
        }
      ]
    },
    {
      "cell_type": "code",
      "source": [
        "#optional keyworded only arguments\n",
        "def func(**k):\n",
        "    print(k)\n",
        "func(name=\"abhiram\")"
      ],
      "metadata": {
        "colab": {
          "base_uri": "https://localhost:8080/"
        },
        "id": "pPRYOTFxTQ-s",
        "outputId": "44490686-2bb1-4218-a65b-d3f4215ec648"
      },
      "execution_count": null,
      "outputs": [
        {
          "output_type": "stream",
          "name": "stdout",
          "text": [
            "{'name': 'abhiram'}\n"
          ]
        }
      ]
    },
    {
      "cell_type": "code",
      "source": [
        "#anonymous or lambda functions\n",
        "a=lambda a,b:a*b\n",
        "a(3,2)"
      ],
      "metadata": {
        "id": "52YG85g7TUll",
        "outputId": "4efabd38-124c-4547-8cce-4e0627413131",
        "colab": {
          "base_uri": "https://localhost:8080/"
        }
      },
      "execution_count": null,
      "outputs": [
        {
          "output_type": "execute_result",
          "data": {
            "text/plain": [
              "6"
            ]
          },
          "metadata": {},
          "execution_count": 9
        }
      ]
    }
  ]
}