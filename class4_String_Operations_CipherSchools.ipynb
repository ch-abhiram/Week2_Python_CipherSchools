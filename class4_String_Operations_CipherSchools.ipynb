{
  "nbformat": 4,
  "nbformat_minor": 0,
  "metadata": {
    "colab": {
      "provenance": [],
      "authorship_tag": "ABX9TyMwVTOp4G4/+yeSKdf2XbHt",
      "include_colab_link": true
    },
    "kernelspec": {
      "name": "python3",
      "display_name": "Python 3"
    },
    "language_info": {
      "name": "python"
    }
  },
  "cells": [
    {
      "cell_type": "markdown",
      "metadata": {
        "id": "view-in-github",
        "colab_type": "text"
      },
      "source": [
        "<a href=\"https://colab.research.google.com/github/ch-abhiram/Week2_Python_CipherSchools/blob/main/class4_String_Operations_CipherSchools.ipynb\" target=\"_parent\"><img src=\"https://colab.research.google.com/assets/colab-badge.svg\" alt=\"Open In Colab\"/></a>"
      ]
    },
    {
      "cell_type": "code",
      "execution_count": null,
      "metadata": {
        "colab": {
          "base_uri": "https://localhost:8080/"
        },
        "id": "bwCvNQ9jUFNr",
        "outputId": "6a93daac-96aa-4c9b-d420-cae32360f779"
      },
      "outputs": [
        {
          "output_type": "stream",
          "name": "stdout",
          "text": [
            "value of a 10\n",
            "value of a is 10\n"
          ]
        }
      ],
      "source": [
        "a=10\n",
        "print(\"value of a %d\" %(a))\n",
        "print(\"value of a is {}\".format(a))"
      ]
    },
    {
      "cell_type": "code",
      "source": [
        "a,b,c,d=1,2,3,4\n",
        "print(\"a={},b={},c={},d={}\".format(a,b,c,d))"
      ],
      "metadata": {
        "colab": {
          "base_uri": "https://localhost:8080/"
        },
        "id": "9ZM0-2N-UKxa",
        "outputId": "02991e9b-1dcd-447a-a5cf-15316f97ab8c"
      },
      "execution_count": null,
      "outputs": [
        {
          "output_type": "stream",
          "name": "stdout",
          "text": [
            "a=1,b=2,c=3,d=4\n"
          ]
        }
      ]
    },
    {
      "cell_type": "code",
      "source": [
        "a,b,c=1,2,3\n",
        "print(\"a={2},b={1},c={0}\".format(c,b,a))"
      ],
      "metadata": {
        "colab": {
          "base_uri": "https://localhost:8080/"
        },
        "id": "OQ4j7GhpUK0m",
        "outputId": "8ca4797d-b6da-4838-ea18-4beae0332bf4"
      },
      "execution_count": null,
      "outputs": [
        {
          "output_type": "stream",
          "name": "stdout",
          "text": [
            "a=1,b=2,c=3\n"
          ]
        }
      ]
    },
    {
      "cell_type": "code",
      "source": [
        "name=\"abhiram\"\n",
        "name1=\"tayal\"\n",
        "print(\"name={name},name1={name1}\".format(name=name,name1=name1))"
      ],
      "metadata": {
        "id": "1GLkz3ejUK3l"
      },
      "execution_count": null,
      "outputs": []
    },
    {
      "cell_type": "code",
      "source": [
        "name=\"abhiram\"\n",
        "print(f\"my name is {name}\")"
      ],
      "metadata": {
        "colab": {
          "base_uri": "https://localhost:8080/"
        },
        "id": "WMF5mLJ4UK6h",
        "outputId": "41c3c4ec-10a7-4439-d039-6f66010e7701"
      },
      "execution_count": null,
      "outputs": [
        {
          "output_type": "stream",
          "name": "stdout",
          "text": [
            "my name is abhiram\n"
          ]
        }
      ]
    },
    {
      "cell_type": "code",
      "source": [
        "print(len(\"a\\nb\"))"
      ],
      "metadata": {
        "colab": {
          "base_uri": "https://localhost:8080/"
        },
        "id": "gimyyzSpUK9W",
        "outputId": "82d73317-53ed-41cb-dd0c-3c6ba021ec61"
      },
      "execution_count": null,
      "outputs": [
        {
          "output_type": "stream",
          "name": "stdout",
          "text": [
            "3\n"
          ]
        }
      ]
    },
    {
      "cell_type": "code",
      "source": [
        "for a in r\"a\\nb\":\n",
        "    print(a)"
      ],
      "metadata": {
        "colab": {
          "base_uri": "https://localhost:8080/"
        },
        "id": "86iiHGThULAU",
        "outputId": "833aee33-de82-450d-f229-ce9d0e3bd1c9"
      },
      "execution_count": null,
      "outputs": [
        {
          "output_type": "stream",
          "name": "stdout",
          "text": [
            "a\n",
            "\\\n",
            "n\n",
            "b\n"
          ]
        }
      ]
    },
    {
      "cell_type": "code",
      "source": [
        "for a in \"a\\nb\":\n",
        "    print(a)"
      ],
      "metadata": {
        "colab": {
          "base_uri": "https://localhost:8080/"
        },
        "id": "vCLL-SBrULDZ",
        "outputId": "91ac5b94-79af-4f43-b56f-5a1ca20f55f1"
      },
      "execution_count": null,
      "outputs": [
        {
          "output_type": "stream",
          "name": "stdout",
          "text": [
            "a\n",
            "\n",
            "\n",
            "b\n"
          ]
        }
      ]
    },
    {
      "cell_type": "code",
      "source": [
        "print(len(r\"a\\n\"))"
      ],
      "metadata": {
        "colab": {
          "base_uri": "https://localhost:8080/"
        },
        "id": "o2ckX1EDULH-",
        "outputId": "095d53fc-899f-4f4b-aaaa-1676f5567192"
      },
      "execution_count": null,
      "outputs": [
        {
          "output_type": "stream",
          "name": "stdout",
          "text": [
            "3\n"
          ]
        }
      ]
    },
    {
      "cell_type": "code",
      "source": [
        "a=\"     abc      \"\n",
        "print(a.strip())"
      ],
      "metadata": {
        "colab": {
          "base_uri": "https://localhost:8080/"
        },
        "id": "JTQSsgW8ULPI",
        "outputId": "49642fcb-53aa-4a21-ada8-2186a7b3faa7"
      },
      "execution_count": null,
      "outputs": [
        {
          "output_type": "stream",
          "name": "stdout",
          "text": [
            "abc\n"
          ]
        }
      ]
    },
    {
      "cell_type": "code",
      "source": [
        "a=\"1,2,3,4,5\"\n",
        "print(a.split(\",\"))"
      ],
      "metadata": {
        "colab": {
          "base_uri": "https://localhost:8080/"
        },
        "id": "6APdqf4SULTk",
        "outputId": "07eb192c-3712-467e-d160-f93783dfdcc1"
      },
      "execution_count": null,
      "outputs": [
        {
          "output_type": "stream",
          "name": "stdout",
          "text": [
            "['1', '2', '3', '4', '5']\n"
          ]
        }
      ]
    },
    {
      "cell_type": "code",
      "source": [
        "a=\"abhiram\"\n",
        "print(a.replace(\"-\",\" \"))"
      ],
      "metadata": {
        "colab": {
          "base_uri": "https://localhost:8080/"
        },
        "id": "1MbtNUHTUeMJ",
        "outputId": "1c068fb8-4a42-44f6-ecd6-f565c6e57400"
      },
      "execution_count": null,
      "outputs": [
        {
          "output_type": "stream",
          "name": "stdout",
          "text": [
            "abhiram\n"
          ]
        }
      ]
    },
    {
      "cell_type": "code",
      "source": [
        "a=\"abhiram\"\n",
        "print(a.count(\"a\"))"
      ],
      "metadata": {
        "colab": {
          "base_uri": "https://localhost:8080/"
        },
        "id": "z9RWgWb_UgXH",
        "outputId": "b7ff55c3-c3ee-45dc-8bb4-db3e49e376c4"
      },
      "execution_count": null,
      "outputs": [
        {
          "output_type": "stream",
          "name": "stdout",
          "text": [
            "2\n"
          ]
        }
      ]
    }
  ]
}