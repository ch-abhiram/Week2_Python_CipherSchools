{
  "nbformat": 4,
  "nbformat_minor": 0,
  "metadata": {
    "colab": {
      "provenance": [],
      "authorship_tag": "ABX9TyN8sqpHQdifjR0EDyaB4BOu",
      "include_colab_link": true
    },
    "kernelspec": {
      "name": "python3",
      "display_name": "Python 3"
    },
    "language_info": {
      "name": "python"
    }
  },
  "cells": [
    {
      "cell_type": "markdown",
      "metadata": {
        "id": "view-in-github",
        "colab_type": "text"
      },
      "source": [
        "<a href=\"https://colab.research.google.com/github/ch-abhiram/Week2_Python_CipherSchools/blob/main/class3_Lambda_Functions%2C_Enumerate%2CZip_Functions%2CPacking_and_Unpacking_CipherSchools.ipynb\" target=\"_parent\"><img src=\"https://colab.research.google.com/assets/colab-badge.svg\" alt=\"Open In Colab\"/></a>"
      ]
    },
    {
      "cell_type": "code",
      "execution_count": null,
      "metadata": {
        "colab": {
          "base_uri": "https://localhost:8080/"
        },
        "id": "uZEZ9vvATc17",
        "outputId": "4dc30fbe-37ce-4d8c-bc90-0a7a9491c0ce"
      },
      "outputs": [
        {
          "output_type": "execute_result",
          "data": {
            "text/plain": [
              "<function __main__.<lambda>(a, b)>"
            ]
          },
          "metadata": {},
          "execution_count": 1
        }
      ],
      "source": [
        "lambda a,b : a+b"
      ]
    },
    {
      "cell_type": "code",
      "source": [
        "show=print\n",
        "show(\"something\")"
      ],
      "metadata": {
        "colab": {
          "base_uri": "https://localhost:8080/"
        },
        "id": "dYrLU_5uTiEW",
        "outputId": "152bf9e7-159b-451b-92ac-ca4ecf69fe98"
      },
      "execution_count": null,
      "outputs": [
        {
          "output_type": "stream",
          "name": "stdout",
          "text": [
            "something\n"
          ]
        }
      ]
    },
    {
      "cell_type": "code",
      "source": [
        "names=[\"abhiram\",\"tayal\",\"abcd\",\"egfh\"]\n",
        "for name in enumerate(names):\n",
        "    print(name)"
      ],
      "metadata": {
        "colab": {
          "base_uri": "https://localhost:8080/"
        },
        "id": "bq9iILl7Tj4l",
        "outputId": "455a36ca-dfe2-4b1f-b87a-85f6d78a3bd2"
      },
      "execution_count": null,
      "outputs": [
        {
          "output_type": "stream",
          "name": "stdout",
          "text": [
            "(0, 'abhiram')\n",
            "(1, 'tayal')\n",
            "(2, 'abcd')\n",
            "(3, 'egfh')\n"
          ]
        }
      ]
    },
    {
      "cell_type": "code",
      "source": [
        "names=[\"abhiram\",\"tayal\",\"abcd\",\"egfh\"]\n",
        "for name in enumerate(names):\n",
        "    print(name[0],name[1])"
      ],
      "metadata": {
        "colab": {
          "base_uri": "https://localhost:8080/"
        },
        "id": "k4w5QxdwTnGH",
        "outputId": "26eb0aee-aa7f-4772-ebc9-bb6e0645c5cc"
      },
      "execution_count": null,
      "outputs": [
        {
          "output_type": "stream",
          "name": "stdout",
          "text": [
            "0 abhiram\n",
            "1 tayal\n",
            "2 abcd\n",
            "3 egfh\n"
          ]
        }
      ]
    },
    {
      "cell_type": "code",
      "source": [
        "#swap variable without third variable\n",
        "a=5\n",
        "b=9\n",
        "\n",
        "a=a+b\n",
        "b=a-b\n",
        "a=a-b\n",
        "print(a,b)"
      ],
      "metadata": {
        "colab": {
          "base_uri": "https://localhost:8080/"
        },
        "id": "TOVY31GWTrPP",
        "outputId": "656a8804-d6e2-47ff-a24b-9fdb81c6957e"
      },
      "execution_count": null,
      "outputs": [
        {
          "output_type": "stream",
          "name": "stdout",
          "text": [
            "9 5\n"
          ]
        }
      ]
    },
    {
      "cell_type": "code",
      "source": [
        "a=5\n",
        "b=9\n",
        "\n",
        "a=a^b\n",
        "b=a^b\n",
        "a=a^b\n",
        "\n",
        "print(a,b)"
      ],
      "metadata": {
        "colab": {
          "base_uri": "https://localhost:8080/"
        },
        "id": "huYP0HeqTtKI",
        "outputId": "08977fbd-4835-4bc3-d30c-e8eaa04d696d"
      },
      "execution_count": null,
      "outputs": [
        {
          "output_type": "stream",
          "name": "stdout",
          "text": [
            "9 5\n"
          ]
        }
      ]
    },
    {
      "cell_type": "code",
      "source": [
        "a=5\n",
        "b=9\n",
        "\n",
        "a,b=b,a\n",
        "print(a,b)"
      ],
      "metadata": {
        "colab": {
          "base_uri": "https://localhost:8080/"
        },
        "id": "cvf6jYsDTwrN",
        "outputId": "c268b6c0-cd60-44bc-a6b6-715af5163fcb"
      },
      "execution_count": null,
      "outputs": [
        {
          "output_type": "stream",
          "name": "stdout",
          "text": [
            "9 5\n"
          ]
        }
      ]
    },
    {
      "cell_type": "code",
      "source": [
        "names=[\"abhiram\",\"tayal\",\"abcd\",\"egfh\"]\n",
        "for i,name in enumerate(names):\n",
        "    print(i,\"-\",name)"
      ],
      "metadata": {
        "colab": {
          "base_uri": "https://localhost:8080/"
        },
        "id": "uBSeG73VTzCa",
        "outputId": "f3e04e76-36ae-4389-9c7a-979074438454"
      },
      "execution_count": null,
      "outputs": [
        {
          "output_type": "stream",
          "name": "stdout",
          "text": [
            "0 - abhiram\n",
            "1 - tayal\n",
            "2 - abcd\n",
            "3 - egfh\n"
          ]
        }
      ]
    },
    {
      "cell_type": "code",
      "source": [
        "names=[\"abhiram\",\"tayal\",\"abcd\",\"egfh\"]\n",
        "scores=[20,30,40,50]\n",
        "for name,score in zip(names,scores):\n",
        "    print(name,\"-\",score)"
      ],
      "metadata": {
        "colab": {
          "base_uri": "https://localhost:8080/"
        },
        "id": "qpG3RMsHT4af",
        "outputId": "8fb0955c-170e-47f1-a22f-4b9ee0d1d4b1"
      },
      "execution_count": null,
      "outputs": [
        {
          "output_type": "stream",
          "name": "stdout",
          "text": [
            "abhiram - 20\n",
            "tayal - 30\n",
            "abcd - 40\n",
            "egfh - 50\n"
          ]
        }
      ]
    },
    {
      "cell_type": "code",
      "source": [
        "names=[\"abhiram\",\"tayal\",\"abcd\",\"egfh\"]\n",
        "scores=[20,30,40,50]\n",
        "states=[\"punjab\",\"haryana\",\"delhi\",\"up\"]\n",
        "for name,score,state in zip(names,scores,states):\n",
        "    print(name,\"-\",score,state)"
      ],
      "metadata": {
        "colab": {
          "base_uri": "https://localhost:8080/"
        },
        "id": "Kwm92RY7T6d6",
        "outputId": "d919b837-c2fd-4bc6-c9a4-9ad4f43ca7f0"
      },
      "execution_count": null,
      "outputs": [
        {
          "output_type": "stream",
          "name": "stdout",
          "text": [
            "abhiram - 20 punjab\n",
            "tayal - 30 haryana\n",
            "abcd - 40 delhi\n",
            "egfh - 50 up\n"
          ]
        }
      ]
    }
  ]
}